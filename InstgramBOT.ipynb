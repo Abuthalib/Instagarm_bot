{
 "cells": [
  {
   "cell_type": "code",
   "execution_count": 1,
   "id": "8258d14a-e48a-4716-9d0d-7b0f9a57b62a",
   "metadata": {},
   "outputs": [],
   "source": [
    "from selenium import webdriver\n",
    "from selenium.webdriver.common.by import By\n",
    "from selenium.webdriver.common.keys import Keys\n",
    "from selenium.webdriver.support.wait import WebDriverWait\n",
    "import time\n"
   ]
  },
  {
   "cell_type": "code",
   "execution_count": 18,
   "id": "762cc825-0902-4671-bb08-839cbfd932bd",
   "metadata": {},
   "outputs": [],
   "source": [
    "USERNAME = \"ai.test_24\"\n",
    "PASSWORD = \"@i24test\"\n",
    "\n",
    "driver = webdriver.Chrome()\n",
    "\n",
    "driver.get(\"https://www.instagram.com/\")\n",
    "\n",
    "#Find username input area and write username\n",
    "username = WebDriverWait(driver, timeout=60).until(\n",
    "\tlambda d: d.find_element(By.XPATH, '//*[@id=\"loginForm\"]/div/div[1]/div/label/input'))\n",
    "username.send_keys(USERNAME)\n",
    "\n",
    "#Find password input area and write password\n",
    "password = driver.find_element(By.XPATH, '//*[@id=\"loginForm\"]/div/div[2]/div/label/input')\n",
    "password.send_keys(PASSWORD)\n",
    "\n",
    "#Click on Login Button\n",
    "enter = driver.find_element(By.XPATH, '//*[@id=\"loginForm\"]/div/div[3]/button')\n",
    "enter.click()\n",
    "time.sleep(5)\n",
    "\n",
    "#Click on Not Now in pop up\n",
    "not_now = driver.find_element(By.XPATH, '/html/body/div[2]/div/div/div[2]/div/div/div[1]/div[1]/div[1]/section/main/div/div/div/div/div')\n",
    "not_now.click()\n",
    "time.sleep(5)\n",
    "\n",
    "#Click on Turn off Notification in pop up\n",
    "turnoff= driver.find_element(By.XPATH, '/html/body/div[2]/div[1]/div/div[2]/div/div/div/div/div[2]/div/div/div[3]/button[2]')\n",
    "turnoff.click()\n",
    "time.sleep(5)\n",
    "\n",
    "##################################################################2\n",
    "\n",
    "# search = driver.find_element(By.XPATH, '/html/body/div[1]/div/div/div[2]/div/div/div[1]/div[1]/div[1]/section/nav/div/header/div/div/div[1]/div/div/div/div/div/div')\n",
    "# search.click()\n",
    "\n",
    "# search_user = \"Hallaj\"\n",
    "# search_input = WebDriverWait(driver, timeout=60).until(\n",
    "# \tlambda d: d.find_element(By.XPATH, '/html/body/div[2]/div/div/div[2]/div/div/div[1]/div[1]/div[1]/div/div/div[2]/div/div/div[2]/div/div/div[1]/div/div/input'))\n",
    "# search_input.send_keys(search_user)\n",
    "# found = WebDriverWait(driver, timeout=60).until(\n",
    "# \tlambda d: d.find_element(By.XPATH, '/html/body/div[2]/div/div/div[2]/div/div/div[1]/div[1]/div[1]/div/div/div[2]/div/div/div[2]/div/div/div[2]/div/a/div[1]'))\n",
    "# found.click()\n",
    "\n",
    "\n",
    "####################################################################3\n",
    "\n"
   ]
  },
  {
   "cell_type": "code",
   "execution_count": null,
   "id": "97562c61-db4e-4a83-a61d-334746b33bda",
   "metadata": {},
   "outputs": [],
   "source": []
  }
 ],
 "metadata": {
  "kernelspec": {
   "display_name": "Python 3 (ipykernel)",
   "language": "python",
   "name": "python3"
  },
  "language_info": {
   "codemirror_mode": {
    "name": "ipython",
    "version": 3
   },
   "file_extension": ".py",
   "mimetype": "text/x-python",
   "name": "python",
   "nbconvert_exporter": "python",
   "pygments_lexer": "ipython3",
   "version": "3.9.19"
  }
 },
 "nbformat": 4,
 "nbformat_minor": 5
}
